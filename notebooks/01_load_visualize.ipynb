{
 "cells": [
  {
   "cell_type": "code",
   "execution_count": null,
   "id": "6d91bc12",
   "metadata": {},
   "outputs": [],
   "source": [
    "# 1. 必要ライブラリ\n",
    "import pandas as pd\n",
    "import matplotlib.pyplot as plt\n",
    "\n",
    "# 2. データ読み込み\n",
    "# 例: date列, demand列, solar列, price列を想定\n",
    "df = pd.read_csv(\"../data/tokyo_electricity_30min.csv\", parse_dates=[\"date\"], index_col=\"date\")\n",
    "\n",
    "# 3. 概要確認\n",
    "print(df.head())\n",
    "print(df.describe())\n",
    "print(df.isna().sum())\n",
    "\n",
    "# 4. 可視化\n",
    "plt.figure(figsize=(14,5))\n",
    "df[\"demand\"].plot(label=\"Demand\", alpha=0.8)\n",
    "plt.title(\"Electricity Demand (Tokyo, 30min)\")\n",
    "plt.legend()\n",
    "plt.show()\n",
    "\n",
    "# 5. 太陽光発電と需要の比較\n",
    "df[[\"demand\",\"solar\"]].iloc[:7*48].plot(figsize=(14,5), title=\"1 Week: Demand vs Solar\")\n",
    "plt.show()\n",
    "\n",
    "# 6. 価格との関係\n",
    "df[[\"demand\",\"price\"]].resample(\"D\").mean().plot(figsize=(14,5), secondary_y=\"price\", title=\"Daily Avg Demand vs Price\")\n",
    "plt.show()\n"
   ]
  }
 ],
 "metadata": {
  "kernelspec": {
   "display_name": "timeseries-work",
   "language": "python",
   "name": "python3"
  },
  "language_info": {
   "name": "python",
   "version": "3.10.17"
  }
 },
 "nbformat": 4,
 "nbformat_minor": 5
}
